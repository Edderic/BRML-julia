{
 "cells": [
  {
   "cell_type": "code",
   "execution_count": 2,
   "metadata": {
    "collapsed": false
   },
   "outputs": [
    {
     "name": "stderr",
     "output_type": "stream",
     "text": [
      "INFO: Cloning cache of Blosc from git://github.com/stevengj/Blosc.jl.git\n",
      "INFO: Cloning cache of HDF5 from git://github.com/JuliaLang/HDF5.jl.git\n",
      "INFO: Cloning cache of MAT from git://github.com/simonster/MAT.jl.git\n",
      "INFO: Cloning cache of Zlib from git://github.com/dcjones/Zlib.jl.git\n",
      "INFO: Installing Blosc v0.1.4\n",
      "INFO: Installing HDF5 v0.5.6\n",
      "INFO: Installing MAT v0.2.12\n",
      "INFO: Installing Zlib v0.1.10\n",
      "INFO: Building Blosc\n",
      "  % Total    % Received % Xferd  Average Speed   Time    Time     Time  Current\n",
      "                                 Dload  Upload   Total   Spent    Left  Speed\n",
      "  0     0    0     0    0     0      0      0 --:--:-- --:--:-- --:--:--     0\n",
      "100 63208  100 63208    0     0  47876      0  0:00:01  0:00:01 --:--:--  114k\n",
      "INFO: Building Homebrew\n"
     ]
    },
    {
     "name": "stdout",
     "output_type": "stream",
     "text": [
      "HEAD is now at 41132af version: parse opam archives\n",
      "HEAD is now at b359d09 gnome-icon-theme needs to be mirrored by us to avoid pkg-config problems\n"
     ]
    },
    {
     "name": "stderr",
     "output_type": "stream",
     "text": [
      "INFO: Building HDF5\n",
      "INFO: Package database updated\n",
      "INFO: METADATA is out-of-date — you may not have the latest version of MAT\n",
      "INFO: Use `Pkg.update()` to get the latest versions of your packages\n"
     ]
    }
   ],
   "source": [
    "Pkg.add(\"MAT\")"
   ]
  },
  {
   "cell_type": "code",
   "execution_count": 3,
   "metadata": {
    "collapsed": true
   },
   "outputs": [],
   "source": [
    "using MAT"
   ]
  },
  {
   "cell_type": "code",
   "execution_count": 46,
   "metadata": {
    "collapsed": true
   },
   "outputs": [],
   "source": [
    "using PyPlot"
   ]
  },
  {
   "cell_type": "code",
   "execution_count": 9,
   "metadata": {
    "collapsed": false
   },
   "outputs": [],
   "source": [
    "wiki_auth_file = matopen(\"data/WikiAdjSmall.mat\")\n",
    "varnames = names(wiki_auth_file)\n",
    "A = read(wiki_auth_file, \"A\") # note that this does NOT introduce a variable ``varname`` into scope\n",
    "close(wiki_auth_file)"
   ]
  },
  {
   "cell_type": "code",
   "execution_count": 10,
   "metadata": {
    "collapsed": false
   },
   "outputs": [
    {
     "data": {
      "text/plain": [
       "1000x1000 sparse matrix with 1954 Float64 entries:\n",
       "\t[576 ,    1]  =  1.0\n",
       "\t[848 ,    1]  =  1.0\n",
       "\t[973 ,    1]  =  1.0\n",
       "\t[330 ,    4]  =  1.0\n",
       "\t[363 ,    4]  =  1.0\n",
       "\t[394 ,    4]  =  1.0\n",
       "\t[441 ,    4]  =  1.0\n",
       "\t[564 ,    4]  =  1.0\n",
       "\t[568 ,    4]  =  1.0\n",
       "\t[601 ,    4]  =  1.0\n",
       "\t⋮\n",
       "\t[848 ,  990]  =  1.0\n",
       "\t[879 ,  990]  =  1.0\n",
       "\t[986 ,  990]  =  1.0\n",
       "\t[714 ,  991]  =  1.0\n",
       "\t[151 ,  994]  =  1.0\n",
       "\t[249 ,  994]  =  1.0\n",
       "\t[252 ,  994]  =  1.0\n",
       "\t[310 ,  994]  =  1.0\n",
       "\t[580 ,  994]  =  1.0\n",
       "\t[249 ,  996]  =  1.0\n",
       "\t[704 ,  996]  =  1.0"
      ]
     },
     "execution_count": 10,
     "metadata": {},
     "output_type": "execute_result"
    }
   ],
   "source": [
    "A"
   ]
  },
  {
   "cell_type": "code",
   "execution_count": 20,
   "metadata": {
    "collapsed": false
   },
   "outputs": [
    {
     "data": {
      "text/plain": [
       "1000x1000 sparse matrix with 9032 Float64 entries:\n",
       "\t[1   ,    1]  =  1.0\n",
       "\t[26  ,    1]  =  1.0\n",
       "\t[74  ,    1]  =  1.0\n",
       "\t[91  ,    1]  =  1.0\n",
       "\t[95  ,    1]  =  1.0\n",
       "\t[122 ,    1]  =  1.0\n",
       "\t[142 ,    1]  =  1.0\n",
       "\t[151 ,    1]  =  2.0\n",
       "\t[161 ,    1]  =  1.0\n",
       "\t[236 ,    1]  =  1.0\n",
       "\t⋮\n",
       "\t[417 ,  994]  =  2.0\n",
       "\t[454 ,  994]  =  1.0\n",
       "\t[462 ,  994]  =  1.0\n",
       "\t[576 ,  994]  =  1.0\n",
       "\t[633 ,  994]  =  1.0\n",
       "\t[731 ,  994]  =  1.0\n",
       "\t[767 ,  994]  =  1.0\n",
       "\t[824 ,  994]  =  1.0\n",
       "\t[848 ,  994]  =  1.0\n",
       "\t[901 ,  994]  =  1.0\n",
       "\t[928 ,  994]  =  1.0"
      ]
     },
     "execution_count": 20,
     "metadata": {},
     "output_type": "execute_result"
    }
   ],
   "source": [
    "A^2"
   ]
  },
  {
   "cell_type": "code",
   "execution_count": 72,
   "metadata": {
    "collapsed": false
   },
   "outputs": [
    {
     "data": {
      "text/plain": [
       "10-element Array{Float64,1}:\n",
       " 0.0\n",
       " 0.0\n",
       " 0.0\n",
       " 0.0\n",
       " 0.0\n",
       " 0.0\n",
       " 0.0\n",
       " 0.0\n",
       " 0.0\n",
       " 0.0"
      ]
     },
     "execution_count": 72,
     "metadata": {},
     "output_type": "execute_result"
    }
   ],
   "source": [
    "a = zeros(10)"
   ]
  },
  {
   "cell_type": "code",
   "execution_count": 75,
   "metadata": {
    "collapsed": false
   },
   "outputs": [
    {
     "data": {
      "text/plain": [
       "5"
      ]
     },
     "execution_count": 75,
     "metadata": {},
     "output_type": "execute_result"
    }
   ],
   "source": [
    "a[1] = 5"
   ]
  },
  {
   "cell_type": "code",
   "execution_count": 76,
   "metadata": {
    "collapsed": false
   },
   "outputs": [
    {
     "data": {
      "text/plain": [
       "10-element Array{Float64,1}:\n",
       " 5.0\n",
       " 0.0\n",
       " 0.0\n",
       " 0.0\n",
       " 0.0\n",
       " 0.0\n",
       " 0.0\n",
       " 0.0\n",
       " 0.0\n",
       " 0.0"
      ]
     },
     "execution_count": 76,
     "metadata": {},
     "output_type": "execute_result"
    }
   ],
   "source": [
    "a"
   ]
  },
  {
   "cell_type": "code",
   "execution_count": 78,
   "metadata": {
    "collapsed": false
   },
   "outputs": [
    {
     "data": {
      "text/plain": [
       "6"
      ]
     },
     "execution_count": 78,
     "metadata": {},
     "output_type": "execute_result"
    }
   ],
   "source": [
    "a[1] = 6"
   ]
  },
  {
   "cell_type": "code",
   "execution_count": 79,
   "metadata": {
    "collapsed": false
   },
   "outputs": [
    {
     "data": {
      "text/plain": [
       "10-element Array{Float64,1}:\n",
       " 6.0\n",
       " 0.0\n",
       " 0.0\n",
       " 0.0\n",
       " 0.0\n",
       " 0.0\n",
       " 0.0\n",
       " 0.0\n",
       " 0.0\n",
       " 0.0"
      ]
     },
     "execution_count": 79,
     "metadata": {},
     "output_type": "execute_result"
    }
   ],
   "source": [
    "a"
   ]
  },
  {
   "cell_type": "code",
   "execution_count": null,
   "metadata": {
    "collapsed": true
   },
   "outputs": [],
   "source": []
  },
  {
   "cell_type": "code",
   "execution_count": 45,
   "metadata": {
    "collapsed": false
   },
   "outputs": [
    {
     "data": {
      "text/plain": [
       "1000-element Array{Float64,1}:\n",
       "  1954.0\n",
       "  9032.0\n",
       " 25733.0\n",
       " 45648.0\n",
       " 60582.0\n",
       " 68480.0\n",
       " 71799.0\n",
       " 73344.0\n",
       " 73953.0\n",
       " 74192.0\n",
       " 74241.0\n",
       " 74251.0\n",
       " 74254.0\n",
       "     ⋮  \n",
       "     0.0\n",
       "     0.0\n",
       "     0.0\n",
       "     0.0\n",
       "     0.0\n",
       "     0.0\n",
       "     0.0\n",
       "     0.0\n",
       "     0.0\n",
       "     0.0\n",
       "     0.0\n",
       "     0.0"
      ]
     },
     "execution_count": 45,
     "metadata": {},
     "output_type": "execute_result"
    }
   ],
   "source": [
    "row_len = size(A)[1]\n",
    "col_len = size(A)[2]\n",
    "\n",
    "histo = zeros(row_len)\n",
    "\n",
    "for k = 1:20\n",
    "    adj_k_steps = A^k\n",
    "    count = 0\n",
    "    for row_index = 1:row_len\n",
    "        for col_index = 1:col_len\n",
    "            val = adj_k_steps[row_index, col_index]\n",
    "            \n",
    "            if val > 0\n",
    "                count += 1\n",
    "            end\n",
    "        end\n",
    "    end\n",
    "    \n",
    "    histo[k] = count\n",
    "end\n",
    "\n",
    "histo"
   ]
  },
  {
   "cell_type": "code",
   "execution_count": 85,
   "metadata": {
    "collapsed": false
   },
   "outputs": [
    {
     "data": {
      "text/plain": [
       "20-element Array{Float64,1}:\n",
       "  1954.0\n",
       "  9032.0\n",
       " 25733.0\n",
       " 45648.0\n",
       " 60582.0\n",
       " 68480.0\n",
       " 71799.0\n",
       " 73344.0\n",
       " 73953.0\n",
       " 74192.0\n",
       " 74241.0\n",
       " 74251.0\n",
       " 74254.0\n",
       " 74254.0\n",
       " 74254.0\n",
       " 74254.0\n",
       " 74254.0\n",
       " 74254.0\n",
       " 74254.0\n",
       " 74254.0"
      ]
     },
     "execution_count": 85,
     "metadata": {},
     "output_type": "execute_result"
    }
   ],
   "source": [
    "histo[1:20]"
   ]
  },
  {
   "cell_type": "code",
   "execution_count": 87,
   "metadata": {
    "collapsed": false
   },
   "outputs": [
    {
     "data": {
      "image/png": "[encoded data removed]",
      "text/plain": [
       "Figure(PyObject <matplotlib.figure.Figure object at 0x120e7a790>)"
      ]
     },
     "metadata": {},
     "output_type": "display_data"
    },
    {
     "data": {
      "text/plain": [
       "PyObject <matplotlib.text.Text object at 0x120ed5210>"
      ]
     },
     "execution_count": 87,
     "metadata": {},
     "output_type": "execute_result"
    }
   ],
   "source": [
    "# Should the X-axis be 1,2,...,20?\n",
    "b = bar([1:20],histo[1:20],color=\"#0f87bf\",align=\"center\",alpha=0.4)\n",
    "# h = PyPlot.plt[:hist](histo, 20)\n",
    "xlabel(\"degrees of separation\")\n",
    "ylabel(\"frequency\")\n",
    "title(\"Degrees of Separation among Wikipedia Authors\")"
   ]
  },
  {
   "cell_type": "code",
   "execution_count": null,
   "metadata": {
    "collapsed": true
   },
   "outputs": [],
   "source": []
  }
 ],
 "metadata": {
  "kernelspec": {
   "display_name": "Julia 0.3.11-pre",
   "language": "julia",
   "name": "julia-0.3"
  },
  "language_info": {
   "file_extension": ".jl",
   "mimetype": "application/julia",
   "name": "julia",
   "version": "0.3.11"
  }
 },
 "nbformat": 4,
 "nbformat_minor": 0
}
