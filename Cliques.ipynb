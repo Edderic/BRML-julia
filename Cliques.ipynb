{
 "cells": [
  {
   "cell_type": "code",
   "execution_count": 1,
   "metadata": {
    "collapsed": false
   },
   "outputs": [
    {
     "name": "stderr",
     "output_type": "stream",
     "text": [
      "INFO: Loading help data...\n"
     ]
    }
   ],
   "source": [
    "using PyPlot"
   ]
  },
  {
   "cell_type": "code",
   "execution_count": 55,
   "metadata": {
    "collapsed": true
   },
   "outputs": [],
   "source": [
    "using Base.Test"
   ]
  },
  {
   "cell_type": "code",
   "execution_count": 88,
   "metadata": {
    "collapsed": false
   },
   "outputs": [
    {
     "data": {
      "text/plain": [
       "1x2 Array{Array{T,N},2}:\n",
       " [1,2]  [3]"
      ]
     },
     "execution_count": 88,
     "metadata": {},
     "output_type": "execute_result"
    }
   ],
   "source": [
    "Array[[1, 2]  [3]]"
   ]
  },
  {
   "cell_type": "code",
   "execution_count": 78,
   "metadata": {
    "collapsed": false
   },
   "outputs": [
    {
     "data": {
      "text/plain": [
       "2-element Array{Int64,1}:\n",
       " 1\n",
       " 2"
      ]
     },
     "execution_count": 78,
     "metadata": {},
     "output_type": "execute_result"
    }
   ],
   "source": [
    "[1,2]"
   ]
  },
  {
   "cell_type": "code",
   "execution_count": 101,
   "metadata": {
    "collapsed": false
   },
   "outputs": [
    {
     "data": {
      "text/plain": [
       "true"
      ]
     },
     "execution_count": 101,
     "metadata": {},
     "output_type": "execute_result"
    }
   ],
   "source": [
    "true ||false"
   ]
  },
  {
   "cell_type": "code",
   "execution_count": 140,
   "metadata": {
    "collapsed": false
   },
   "outputs": [
    {
     "data": {
      "text/plain": [
       "current_set_is_contained_by_another_clique (generic function with 1 method)"
      ]
     },
     "execution_count": 140,
     "metadata": {},
     "output_type": "execute_result"
    }
   ],
   "source": [
    "# current set is contained by a 'more maximal' clique\n",
    "function current_set_is_contained_by_another_clique(current_set_index, cliques)\n",
    "    is_contained = false\n",
    "    \n",
    "    for j = 1:length(cliques)\n",
    "        if current_set_index == j\n",
    "\n",
    "        else\n",
    "            semi_maximal_clique = cliques[j]\n",
    "            the_union = union(cliques[current_set_index], semi_maximal_clique)\n",
    "            is_contained = is_contained || length(the_union) == length(semi_maximal_clique)\n",
    "        end\n",
    "    end\n",
    "    \n",
    "    is_contained\n",
    "end"
   ]
  },
  {
   "cell_type": "code",
   "execution_count": 141,
   "metadata": {
    "collapsed": false
   },
   "outputs": [],
   "source": [
    "@test current_set_is_contained_by_another_clique(1, Array[[1,2],[1]]) == false"
   ]
  },
  {
   "cell_type": "code",
   "execution_count": 142,
   "metadata": {
    "collapsed": false
   },
   "outputs": [],
   "source": [
    "@test current_set_is_contained_by_another_clique(2, Array[[1,2],[1]]) == true"
   ]
  },
  {
   "cell_type": "code",
   "execution_count": 143,
   "metadata": {
    "collapsed": true
   },
   "outputs": [],
   "source": [
    "@test current_set_is_contained_by_another_clique([1], Array[[2],[3]]) == false"
   ]
  },
  {
   "cell_type": "code",
   "execution_count": 193,
   "metadata": {
    "collapsed": false
   },
   "outputs": [
    {
     "data": {
      "text/plain": [
       "find_maximal_cliques (generic function with 1 method)"
      ]
     },
     "execution_count": 193,
     "metadata": {},
     "output_type": "execute_result"
    }
   ],
   "source": [
    "function find_maximal_cliques(cliques)\n",
    "    maximal_cliques = Array[]\n",
    "    for i = 1:length(cliques)\n",
    "        if !current_set_is_contained_by_another_clique(i, cliques)\n",
    "            current_clique = cliques[i]\n",
    "            copy_current_clique = Int64[]\n",
    "            for j = 1:length(current_clique)\n",
    "                push!(copy_current_clique, current_clique[j])\n",
    "            end\n",
    "            push!(maximal_cliques, sort(copy_current_clique))\n",
    "        end\n",
    "    end\n",
    "\n",
    "    maximal_cliques\n",
    "end"
   ]
  },
  {
   "cell_type": "code",
   "execution_count": 194,
   "metadata": {
    "collapsed": false
   },
   "outputs": [
    {
     "data": {
      "text/plain": [
       "1-element Array{Array{T,N},1}:\n",
       " [1,2]"
      ]
     },
     "execution_count": 194,
     "metadata": {},
     "output_type": "execute_result"
    }
   ],
   "source": [
    "find_maximal_cliques(Array[[1,2],[1]])"
   ]
  },
  {
   "cell_type": "code",
   "execution_count": 195,
   "metadata": {
    "collapsed": false
   },
   "outputs": [],
   "source": [
    "@test find_maximal_cliques(Array[[1,2],[1]]) == Array[[1,2]]"
   ]
  },
  {
   "cell_type": "code",
   "execution_count": 196,
   "metadata": {
    "collapsed": false
   },
   "outputs": [],
   "source": [
    "@test find_maximal_cliques(Array[[1],[1,2]]) == Array[[1,2]]"
   ]
  },
  {
   "cell_type": "code",
   "execution_count": 197,
   "metadata": {
    "collapsed": false
   },
   "outputs": [],
   "source": [
    "@test find_maximal_cliques(Array[[1],[2]]) == Array[[1],[2]]"
   ]
  },
  {
   "cell_type": "code",
   "execution_count": 198,
   "metadata": {
    "collapsed": true
   },
   "outputs": [],
   "source": [
    "using MAT"
   ]
  },
  {
   "cell_type": "code",
   "execution_count": 199,
   "metadata": {
    "collapsed": false
   },
   "outputs": [],
   "source": [
    "cliques_file = matopen(\"data/cliques.mat\")\n",
    "varnames = names(cliques_file)\n",
    "cl = read(cliques_file, \"cl\") # note that this does NOT introduce a variable ``varname`` into scope\n",
    "close(cliques_file)"
   ]
  },
  {
   "cell_type": "code",
   "execution_count": 200,
   "metadata": {
    "collapsed": false,
    "scrolled": true
   },
   "outputs": [
    {
     "data": {
      "text/plain": [
       "1x100 Array{Any,2}:\n",
       " 1x5 Array{Float64,2}:\n",
       " 5.0  10.0  3.0  4.0  6.0  …  1x5 Array{Float64,2}:\n",
       " 9.0  10.0  6.0  2.0  5.0"
      ]
     },
     "execution_count": 200,
     "metadata": {},
     "output_type": "execute_result"
    }
   ],
   "source": [
    "cl"
   ]
  },
  {
   "cell_type": "code",
   "execution_count": 201,
   "metadata": {
    "collapsed": false
   },
   "outputs": [
    {
     "data": {
      "text/plain": [
       "15-element Array{Array{T,N},1}:\n",
       " [1,2,3,5,6,7,9]   \n",
       " [4,5,6,8,9,10]    \n",
       " [1,3,5,6,7,8,9,10]\n",
       " [1,2,5,6,7,8,9,10]\n",
       " [1,2,4,5,6,7,8,10]\n",
       " [1,2,4,5,6,8,9]   \n",
       " [2,3,5,6,7,8,9,10]\n",
       " [2,3,4,5,8,9,10]  \n",
       " [1,3,4,5,6,9,10]  \n",
       " [1,2,4,6,7,8,9,10]\n",
       " [2,3,4,7,8,9,10]  \n",
       " [1,2,3,4,5,7,8,9] \n",
       " [1,2,3,4,6,8,9,10]\n",
       " [1,3,4,5,7,8,9,10]\n",
       " [1,3,4,5,6,7,8,10]"
      ]
     },
     "execution_count": 201,
     "metadata": {},
     "output_type": "execute_result"
    }
   ],
   "source": [
    "find_maximal_cliques(cl)"
   ]
  },
  {
   "cell_type": "code",
   "execution_count": 227,
   "metadata": {
    "collapsed": false
   },
   "outputs": [
    {
     "data": {
      "text/plain": [
       "to_binary (generic function with 1 method)"
      ]
     },
     "execution_count": 227,
     "metadata": {},
     "output_type": "execute_result"
    }
   ],
   "source": [
    "function to_binary(clique)\n",
    "    accum = Int64[]\n",
    "    for i=10:-1:1\n",
    "        if indexin([i], clique) == [0]\n",
    "            push!(accum, 0)\n",
    "        else\n",
    "            push!(accum, 1)\n",
    "        end\n",
    "    end\n",
    "    accum\n",
    "end"
   ]
  },
  {
   "cell_type": "code",
   "execution_count": 228,
   "metadata": {
    "collapsed": false
   },
   "outputs": [],
   "source": [
    "@test indexin([10], [1,2,3,6,7,8,9]) == [0]"
   ]
  },
  {
   "cell_type": "code",
   "execution_count": 229,
   "metadata": {
    "collapsed": false
   },
   "outputs": [
    {
     "data": {
      "text/plain": [
       "1-element Array{Int64,1}:\n",
       " 0"
      ]
     },
     "execution_count": 229,
     "metadata": {},
     "output_type": "execute_result"
    }
   ],
   "source": [
    "indexin([10], [1,2,3,6,7,8,9])"
   ]
  },
  {
   "cell_type": "code",
   "execution_count": 230,
   "metadata": {
    "collapsed": false
   },
   "outputs": [
    {
     "data": {
      "text/plain": [
       "10-element Array{Int64,1}:\n",
       " 0\n",
       " 1\n",
       " 1\n",
       " 1\n",
       " 1\n",
       " 0\n",
       " 0\n",
       " 1\n",
       " 1\n",
       " 1"
      ]
     },
     "execution_count": 230,
     "metadata": {},
     "output_type": "execute_result"
    }
   ],
   "source": [
    "to_binary([1,2,3,6,7,8,9])"
   ]
  },
  {
   "cell_type": "code",
   "execution_count": 221,
   "metadata": {
    "collapsed": false
   },
   "outputs": [
    {
     "ename": "LoadError",
     "evalue": "`indexin` has no method matching indexin(::Int64, ::Array{Int64,1})\nwhile loading In[221], in expression starting on line 1",
     "output_type": "error",
     "traceback": [
      "`indexin` has no method matching indexin(::Int64, ::Array{Int64,1})\nwhile loading In[221], in expression starting on line 1",
      ""
     ]
    }
   ],
   "source": [
    "indexin(1,[3,2])"
   ]
  },
  {
   "cell_type": "code",
   "execution_count": 217,
   "metadata": {
    "collapsed": false
   },
   "outputs": [
    {
     "data": {
      "text/plain": [
       "10-element Array{Int64,1}:\n",
       " 10\n",
       "  9\n",
       "  8\n",
       "  7\n",
       "  6\n",
       "  5\n",
       "  4\n",
       "  3\n",
       "  2\n",
       "  1"
      ]
     },
     "execution_count": 217,
     "metadata": {},
     "output_type": "execute_result"
    }
   ],
   "source": [
    "to_binary(1)"
   ]
  },
  {
   "cell_type": "code",
   "execution_count": 205,
   "metadata": {
    "collapsed": false
   },
   "outputs": [
    {
     "data": {
      "text/plain": [
       "to_decimal (generic function with 1 method)"
      ]
     },
     "execution_count": 205,
     "metadata": {},
     "output_type": "execute_result"
    }
   ],
   "source": [
    "function to_decimal(clique)\n",
    "    total = 0\n",
    "    for i=1:length(clique)\n",
    "        power = clique[i]\n",
    "        total += 2 ^ power\n",
    "    end\n",
    "    \n",
    "    total\n",
    "end"
   ]
  },
  {
   "cell_type": "code",
   "execution_count": 206,
   "metadata": {
    "collapsed": false
   },
   "outputs": [
    {
     "data": {
      "text/plain": [
       "487"
      ]
     },
     "execution_count": 206,
     "metadata": {},
     "output_type": "execute_result"
    }
   ],
   "source": [
    "to_decimal([1,2,3,6,7,8,9])"
   ]
  },
  {
   "cell_type": "code",
   "execution_count": 203,
   "metadata": {
    "collapsed": false
   },
   "outputs": [
    {
     "ename": "LoadError",
     "evalue": "test failed: to_decimal([1,2,3,6,7,8,9]) == 926\nwhile loading In[203], in expression starting on line 1",
     "output_type": "error",
     "traceback": [
      "test failed: to_decimal([1,2,3,6,7,8,9]) == 926\nwhile loading In[203], in expression starting on line 1",
      "",
      " in error at error.jl:21",
      " in default_handler at test.jl:19",
      " in do_test at test.jl:39"
     ]
    }
   ],
   "source": [
    "@test to_decimal([1,2,3,6,7,8,9]) == 926"
   ]
  },
  {
   "cell_type": "code",
   "execution_count": 174,
   "metadata": {
    "collapsed": false
   },
   "outputs": [
    {
     "data": {
      "text/plain": [
       "15-element Array{Array{T,N},1}:\n",
       " 1x7 Array{Float64,2}:\n",
       " 3.0  1.0  7.0  6.0  9.0  2.0  5.0      \n",
       " 1x6 Array{Float64,2}:\n",
       " 8.0  6.0  5.0  10.0  9.0  4.0          \n",
       " 1x8 Array{Float64,2}:\n",
       " 1.0  9.0  5.0  7.0  10.0  8.0  3.0  6.0\n",
       " 1x8 Array{Float64,2}:\n",
       " 6.0  5.0  8.0  10.0  2.0  9.0  1.0  7.0\n",
       " 1x8 Array{Float64,2}:\n",
       " 8.0  6.0  10.0  7.0  4.0  1.0  2.0  5.0\n",
       " 1x7 Array{Float64,2}:\n",
       " 1.0  5.0  6.0  4.0  8.0  2.0  9.0      \n",
       " 1x8 Array{Float64,2}:\n",
       " 3.0  6.0  2.0  7.0  9.0  10.0  5.0  8.0\n",
       " 1x7 Array{Float64,2}:\n",
       " 10.0  3.0  9.0  8.0  5.0  2.0  4.0     \n",
       " 1x7 Array{Float64,2}:\n",
       " 6.0  10.0  9.0  5.0  1.0  3.0  4.0     \n",
       " 1x8 Array{Float64,2}:\n",
       " 10.0  6.0  8.0  1.0  4.0  7.0  9.0  2.0\n",
       " 1x7 Array{Float64,2}:\n",
       " 9.0  8.0  2.0  3.0  10.0  4.0  7.0     \n",
       " 1x8 Array{Float64,2}:\n",
       " 4.0  2.0  5.0  3.0  7.0  8.0  9.0  1.0 \n",
       " 1x8 Array{Float64,2}:\n",
       " 1.0  10.0  6.0  9.0  2.0  4.0  8.0  3.0\n",
       " 1x8 Array{Float64,2}:\n",
       " 9.0  4.0  7.0  1.0  10.0  3.0  5.0  8.0\n",
       " 1x8 Array{Float64,2}:\n",
       " 7.0  6.0  3.0  4.0  10.0  8.0  5.0  1.0"
      ]
     },
     "execution_count": 174,
     "metadata": {},
     "output_type": "execute_result"
    }
   ],
   "source": [
    "find_maximal_cliques(cl)"
   ]
  },
  {
   "cell_type": "code",
   "execution_count": 5,
   "metadata": {
    "collapsed": false
   },
   "outputs": [
    {
     "name": "stdout",
     "output_type": "stream",
     "text": [
      "Any[[5.0 10.0 3.0 4.0 6.0] [4.0 3.0] [4.0 5.0 9.0 3.0 8.0] [5.0 8.0] [1.0 5.0 6.0 10.0 2.0 3.0] [8.0 6.0] [7.0 8.0] [2.0 8.0] [8.0 9.0 7.0 3.0 5.0 1.0 4.0] [4.0 10.0 8.0] [10.0 4.0 6.0 8.0 3.0 1.0 5.0 2.0] [3.0 1.0 7.0 6.0 9.0 2.0 5.0] [8.0 7.0 3.0 5.0 4.0] [8.0 6.0 5.0 10.0 9.0 4.0] [6.0 7.0 3.0 9.0 2.0 4.0] [3.0 9.0 2.0 8.0 1.0 6.0] [1.0 9.0 7.0] [5.0 9.0 6.0 1.0 10.0 3.0] [8.0 6.0 9.0 5.0] [1.0 8.0 4.0] [1.0 9.0 5.0 7.0 10.0 8.0 3.0 6.0] [2.0 6.0 9.0 10.0 8.0 5.0 1.0] [3.0 2.0 8.0 10.0] [10.0 5.0 9.0 3.0 8.0 7.0] [5.0 6.0 8.0 9.0] [6.0 5.0 8.0 10.0 2.0 9.0 1.0 7.0] [2.0 3.0] [6.0 8.0 5.0 1.0] [7.0 4.0 3.0] [10.0 9.0] [8.0 6.0 10.0 7.0 4.0 1.0 2.0 5.0] 10.0 [9.0 5.0 10.0 4.0 2.0] [1.0 5.0 6.0 4.0 8.0 2.0 9.0] [10.0 8.0] [2.0 7.0 8.0] [9.0 2.0] 6.0 [5.0 10.0 6.0] [6.0 4.0 7.0 2.0 5.0] [10.0 8.0 6.0] 6.0 [4.0 2.0] [6.0 9.0] [10.0 6.0 1.0 4.0] [9.0 1.0 4.0 5.0] [9.0 1.0] [2.0 3.0 4.0 1.0 5.0] [3.0 5.0] 7.0 [1.0 8.0 7.0 9.0] [9.0 5.0 7.0 1.0] [7.0 2.0 3.0 8.0] [3.0 6.0 2.0 7.0 9.0 10.0 5.0 8.0] [10.0 2.0 5.0 3.0] [5.0 9.0] [7.0 2.0 6.0 9.0 10.0 3.0] [10.0 3.0 9.0 8.0 5.0 2.0 4.0] [4.0 10.0 9.0 2.0] [6.0 4.0 10.0 2.0 8.0 1.0 3.0 5.0] [9.0 2.0] [6.0 10.0 9.0 5.0 1.0 3.0 4.0] [9.0 6.0 2.0 5.0 1.0] [3.0 4.0 6.0] [10.0 1.0 2.0 4.0 8.0] [10.0 6.0 8.0 1.0 4.0 7.0 9.0 2.0] [1.0 9.0] [9.0 8.0 2.0 3.0 10.0 4.0 7.0] [5.0 9.0 6.0 7.0] [10.0 7.0 9.0 6.0 2.0 3.0 8.0] [9.0 8.0 5.0 3.0] [9.0 10.0 6.0 4.0 3.0 8.0] [8.0 3.0 7.0 10.0 6.0 4.0 1.0] 1.0 [6.0 7.0 1.0 9.0 2.0 3.0] [8.0 9.0 2.0 3.0 7.0 1.0] [4.0 7.0 9.0 1.0 8.0 3.0] [4.0 2.0 5.0 3.0 7.0 8.0 9.0 1.0] 2.0 [7.0 4.0] [4.0 1.0] [8.0 10.0 4.0 5.0 7.0] [1.0 10.0 6.0 9.0 2.0 4.0 8.0 3.0] [4.0 5.0 8.0 10.0] [9.0 4.0 7.0 1.0 10.0 3.0 5.0 8.0] [3.0 8.0 6.0 9.0 7.0 1.0] [1.0 5.0 3.0 6.0 7.0] [4.0 6.0 7.0] [3.0 9.0] [2.0 7.0 4.0 9.0 3.0 6.0] [9.0 2.0 4.0 10.0 5.0] 1.0 [9.0 1.0] [6.0 5.0 2.0 4.0] [7.0 8.0 3.0 1.0] [5.0 3.0] [4.0 7.0] 5.0 [7.0 6.0 3.0 4.0 10.0 8.0 5.0 1.0] [9.0 10.0 6.0 2.0 5.0]]"
     ]
    }
   ],
   "source": [
    "print(cl)"
   ]
  }
 ],
 "metadata": {
  "kernelspec": {
   "display_name": "Julia 0.3.11-pre",
   "language": "julia",
   "name": "julia-0.3"
  },
  "language_info": {
   "file_extension": ".jl",
   "mimetype": "application/julia",
   "name": "julia",
   "version": "0.3.11"
  }
 },
 "nbformat": 4,
 "nbformat_minor": 0
}
