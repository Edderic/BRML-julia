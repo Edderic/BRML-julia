{
 "cells": [
  {
   "cell_type": "code",
   "execution_count": 1,
   "metadata": {
    "collapsed": false
   },
   "outputs": [
    {
     "name": "stderr",
     "output_type": "stream",
     "text": [
      "INFO: Loading help data...\n"
     ]
    }
   ],
   "source": [
    "using PyPlot"
   ]
  },
  {
   "cell_type": "code",
   "execution_count": 2,
   "metadata": {
    "collapsed": true
   },
   "outputs": [],
   "source": [
    "using MAT"
   ]
  },
  {
   "cell_type": "code",
   "execution_count": 3,
   "metadata": {
    "collapsed": false
   },
   "outputs": [],
   "source": [
    "cliques_file = matopen(\"data/cliques.mat\")\n",
    "varnames = names(cliques_file)\n",
    "cl = read(cliques_file, \"cl\") # note that this does NOT introduce a variable ``varname`` into scope\n",
    "close(cliques_file)"
   ]
  },
  {
   "cell_type": "code",
   "execution_count": 4,
   "metadata": {
    "collapsed": false
   },
   "outputs": [
    {
     "data": {
      "text/plain": [
       "1x100 Array{Any,2}:\n",
       " 1x5 Array{Float64,2}:\n",
       " 5.0  10.0  3.0  4.0  6.0  …  1x5 Array{Float64,2}:\n",
       " 9.0  10.0  6.0  2.0  5.0"
      ]
     },
     "execution_count": 4,
     "metadata": {},
     "output_type": "execute_result"
    }
   ],
   "source": [
    "cl"
   ]
  },
  {
   "cell_type": "code",
   "execution_count": 5,
   "metadata": {
    "collapsed": false
   },
   "outputs": [
    {
     "name": "stdout",
     "output_type": "stream",
     "text": [
      "Any[[5.0 10.0 3.0 4.0 6.0] [4.0 3.0] [4.0 5.0 9.0 3.0 8.0] [5.0 8.0] [1.0 5.0 6.0 10.0 2.0 3.0] [8.0 6.0] [7.0 8.0] [2.0 8.0] [8.0 9.0 7.0 3.0 5.0 1.0 4.0] [4.0 10.0 8.0] [10.0 4.0 6.0 8.0 3.0 1.0 5.0 2.0] [3.0 1.0 7.0 6.0 9.0 2.0 5.0] [8.0 7.0 3.0 5.0 4.0] [8.0 6.0 5.0 10.0 9.0 4.0] [6.0 7.0 3.0 9.0 2.0 4.0] [3.0 9.0 2.0 8.0 1.0 6.0] [1.0 9.0 7.0] [5.0 9.0 6.0 1.0 10.0 3.0] [8.0 6.0 9.0 5.0] [1.0 8.0 4.0] [1.0 9.0 5.0 7.0 10.0 8.0 3.0 6.0] [2.0 6.0 9.0 10.0 8.0 5.0 1.0] [3.0 2.0 8.0 10.0] [10.0 5.0 9.0 3.0 8.0 7.0] [5.0 6.0 8.0 9.0] [6.0 5.0 8.0 10.0 2.0 9.0 1.0 7.0] [2.0 3.0] [6.0 8.0 5.0 1.0] [7.0 4.0 3.0] [10.0 9.0] [8.0 6.0 10.0 7.0 4.0 1.0 2.0 5.0] 10.0 [9.0 5.0 10.0 4.0 2.0] [1.0 5.0 6.0 4.0 8.0 2.0 9.0] [10.0 8.0] [2.0 7.0 8.0] [9.0 2.0] 6.0 [5.0 10.0 6.0] [6.0 4.0 7.0 2.0 5.0] [10.0 8.0 6.0] 6.0 [4.0 2.0] [6.0 9.0] [10.0 6.0 1.0 4.0] [9.0 1.0 4.0 5.0] [9.0 1.0] [2.0 3.0 4.0 1.0 5.0] [3.0 5.0] 7.0 [1.0 8.0 7.0 9.0] [9.0 5.0 7.0 1.0] [7.0 2.0 3.0 8.0] [3.0 6.0 2.0 7.0 9.0 10.0 5.0 8.0] [10.0 2.0 5.0 3.0] [5.0 9.0] [7.0 2.0 6.0 9.0 10.0 3.0] [10.0 3.0 9.0 8.0 5.0 2.0 4.0] [4.0 10.0 9.0 2.0] [6.0 4.0 10.0 2.0 8.0 1.0 3.0 5.0] [9.0 2.0] [6.0 10.0 9.0 5.0 1.0 3.0 4.0] [9.0 6.0 2.0 5.0 1.0] [3.0 4.0 6.0] [10.0 1.0 2.0 4.0 8.0] [10.0 6.0 8.0 1.0 4.0 7.0 9.0 2.0] [1.0 9.0] [9.0 8.0 2.0 3.0 10.0 4.0 7.0] [5.0 9.0 6.0 7.0] [10.0 7.0 9.0 6.0 2.0 3.0 8.0] [9.0 8.0 5.0 3.0] [9.0 10.0 6.0 4.0 3.0 8.0] [8.0 3.0 7.0 10.0 6.0 4.0 1.0] 1.0 [6.0 7.0 1.0 9.0 2.0 3.0] [8.0 9.0 2.0 3.0 7.0 1.0] [4.0 7.0 9.0 1.0 8.0 3.0] [4.0 2.0 5.0 3.0 7.0 8.0 9.0 1.0] 2.0 [7.0 4.0] [4.0 1.0] [8.0 10.0 4.0 5.0 7.0] [1.0 10.0 6.0 9.0 2.0 4.0 8.0 3.0] [4.0 5.0 8.0 10.0] [9.0 4.0 7.0 1.0 10.0 3.0 5.0 8.0] [3.0 8.0 6.0 9.0 7.0 1.0] [1.0 5.0 3.0 6.0 7.0] [4.0 6.0 7.0] [3.0 9.0] [2.0 7.0 4.0 9.0 3.0 6.0] [9.0 2.0 4.0 10.0 5.0] 1.0 [9.0 1.0] [6.0 5.0 2.0 4.0] [7.0 8.0 3.0 1.0] [5.0 3.0] [4.0 7.0] 5.0 [7.0 6.0 3.0 4.0 10.0 8.0 5.0 1.0] [9.0 10.0 6.0 2.0 5.0]]"
     ]
    }
   ],
   "source": [
    "print(cl)"
   ]
  },
  {
   "cell_type": "code",
   "execution_count": 31,
   "metadata": {
    "collapsed": false
   },
   "outputs": [
    {
     "data": {
      "text/plain": [
       "0-element Array{Array{T,N},1}"
      ]
     },
     "execution_count": 31,
     "metadata": {},
     "output_type": "execute_result"
    }
   ],
   "source": [
    "maximal_cliques = Array[]"
   ]
  },
  {
   "cell_type": "code",
   "execution_count": 32,
   "metadata": {
    "collapsed": false
   },
   "outputs": [
    {
     "data": {
      "text/plain": [
       "1-element Array{Array{T,N},1}:\n",
       " [1]"
      ]
     },
     "execution_count": 32,
     "metadata": {},
     "output_type": "execute_result"
    }
   ],
   "source": [
    "a = Array[]\n",
    "push!(a,[1])\n",
    "a"
   ]
  },
  {
   "cell_type": "code",
   "execution_count": 33,
   "metadata": {
    "collapsed": false
   },
   "outputs": [
    {
     "data": {
      "text/plain": [
       "true"
      ]
     },
     "execution_count": 33,
     "metadata": {},
     "output_type": "execute_result"
    }
   ],
   "source": [
    "size(maximal_cliques) == (0,)"
   ]
  },
  {
   "cell_type": "code",
   "execution_count": 34,
   "metadata": {
    "collapsed": false
   },
   "outputs": [
    {
     "name": "stdout",
     "output_type": "stream",
     "text": [
      "yo[5.0 10.0 3.0 4.0 6.0]yo[4.0 3.0]yo[4.0 5.0 9.0 3.0 8.0]yo[5.0 8.0]yo[1.0 5.0 6.0 10.0 2.0 3.0]"
     ]
    }
   ],
   "source": [
    "for i = 1:5\n",
    "    if (size(maximal_cliques) == (0,))\n",
    "        print(\"yo\")\n",
    "    end\n",
    "    print(cl[i])\n",
    "end"
   ]
  },
  {
   "cell_type": "code",
   "execution_count": 13,
   "metadata": {
    "collapsed": false
   },
   "outputs": [
    {
     "data": {
      "text/plain": [
       "2-element Array{Int64,1}:\n",
       " 1\n",
       " 2"
      ]
     },
     "execution_count": 13,
     "metadata": {},
     "output_type": "execute_result"
    }
   ],
   "source": [
    "union([1,2],1)"
   ]
  },
  {
   "cell_type": "code",
   "execution_count": null,
   "metadata": {
    "collapsed": true
   },
   "outputs": [],
   "source": [
    "# if the Union size of two sets is the size of the bigger set, \n",
    "# then we know that one is fully contained by the other.\n",
    "\n",
    "# maximal_cliques is where we want to insert things\n",
    "# We would like to see if the current set either fully contains\n",
    "# a set that is already in the set of maximal cliques, or\n",
    "# whether one of the sets in maximal_cliques already fully contains the\n",
    "# current set.\n",
    "# If we find one, then we replace that "
   ]
  }
 ],
 "metadata": {
  "kernelspec": {
   "display_name": "Julia 0.3.11-pre",
   "language": "julia",
   "name": "julia-0.3"
  },
  "language_info": {
   "file_extension": ".jl",
   "mimetype": "application/julia",
   "name": "julia",
   "version": "0.3.11"
  }
 },
 "nbformat": 4,
 "nbformat_minor": 0
}
